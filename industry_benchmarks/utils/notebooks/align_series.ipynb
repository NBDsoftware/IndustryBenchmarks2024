{
 "cells": [
  {
   "cell_type": "code",
   "execution_count": null,
   "metadata": {},
   "outputs": [],
   "source": [
    "from rdkit import Chem\n",
    "from rdkit.Chem import AllChem, rdFMCS\n",
    "from rdkit.Chem import rdMolAlign\n",
    "from rdkit.Chem import rdMolTransforms\n",
    "\n",
    "ligands_path = \"/path/to/ligands/to/be/aligned.sdf\"\n",
    "ref_ligand_path = \"/path/to/ref/ligand.sdf\"\n",
    "output_path = \"/path/to/output/ligands/aligned.sdf\"\n",
    "\n",
    "# Load reference ligand\n",
    "ref_supplier = Chem.SDMolSupplier(ref_ligand_path, removeHs=False)\n",
    "reference_ligand = ref_supplier[0]\n",
    "\n",
    "# Load ligand series\n",
    "ligand_supplier = Chem.SDMolSupplier(ligands_path, removeHs=False)\n",
    "\n",
    "ligands = []\n",
    "for lig in ligand_supplier:\n",
    "    \n",
    "    if lig is not None:\n",
    "        ligands.append(lig)\n",
    "    else:\n",
    "        print(\"Error reading molecule from file\")\n",
    "        \n",
    "# Find MCS between reference ligand and each ligand in the series\n",
    "mcs_result = rdFMCS.FindMCS([reference_ligand] + ligands)\n",
    "mcs_smarts = mcs_result.smartsString\n",
    "mcs_mol = Chem.MolFromSmarts(mcs_smarts)"
   ]
  },
  {
   "cell_type": "code",
   "execution_count": 7,
   "metadata": {},
   "outputs": [
    {
     "name": "stdout",
     "output_type": "stream",
     "text": [
      "Aligning ligand:  PI3K_compound4\n",
      "Aligning ligand:  PI3K_compound5\n",
      "Aligning ligand:  PI3K_compound7\n",
      "Aligning ligand:  PI3K_compound9\n",
      "Aligning ligand:  PI3K_compound11\n",
      "Aligning ligand:  PI3K_compound13\n",
      "Aligning ligand:  PI3K_compound14\n",
      "Aligning ligand:  PI3K_compound18\n",
      "Aligning ligand:  PI3K_compound22\n",
      "Aligning ligand:  PI3K_compound26\n",
      "Aligning ligand:  PI3K_compound28\n",
      "Aligning ligand:  PI3K_compound30\n",
      "Aligning ligand:  PI3K_compound31\n"
     ]
    }
   ],
   "source": [
    "# Check if the reference ligand has 3D coordinates\n",
    "if reference_ligand.GetNumConformers() == 0:\n",
    "    print(\"The reference ligand does not have 3D coordinates!\")\n",
    "    \n",
    "# Align ligands\n",
    "for ligand in ligands:\n",
    "    \n",
    "    print(\"Aligning ligand: \", ligand.GetProp(\"_Name\"))\n",
    "    \n",
    "    # Generate 3D coordinates if not present\n",
    "    if ligand.GetNumConformers() == 0:\n",
    "        print(\"Generating 3D coordinates...\")\n",
    "        AllChem.EmbedMolecule(ligand)\n",
    "        AllChem.UFFOptimizeMolecule(ligand)\n",
    "    \n",
    "    # Get the atom indices for MCS in both ligands\n",
    "    ref_match = reference_ligand.GetSubstructMatch(mcs_mol)\n",
    "    lig_match = ligand.GetSubstructMatch(mcs_mol)\n",
    "    \n",
    "    if ref_match and lig_match:\n",
    "        # Align ligand to reference using MCS atom indices\n",
    "        rdMolAlign.AlignMol(ligand, reference_ligand, atomMap=list(zip(lig_match, ref_match)))\n",
    "\n",
    "# Save aligned ligands\n",
    "w = Chem.SDWriter(output_path)\n",
    "for ligand in ligands:\n",
    "    w.write(ligand)\n",
    "w.close()"
   ]
  }
 ],
 "metadata": {
  "kernelspec": {
   "display_name": "Python 3 (ipykernel)",
   "language": "python",
   "name": "python3"
  },
  "language_info": {
   "codemirror_mode": {
    "name": "ipython",
    "version": 3
   },
   "file_extension": ".py",
   "mimetype": "text/x-python",
   "name": "python",
   "nbconvert_exporter": "python",
   "pygments_lexer": "ipython3",
   "version": "3.12.6"
  }
 },
 "nbformat": 4,
 "nbformat_minor": 2
}
